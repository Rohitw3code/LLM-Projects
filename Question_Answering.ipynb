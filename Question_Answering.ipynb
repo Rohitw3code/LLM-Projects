{
  "nbformat": 4,
  "nbformat_minor": 0,
  "metadata": {
    "colab": {
      "provenance": []
    },
    "kernelspec": {
      "name": "python3",
      "display_name": "Python 3"
    },
    "language_info": {
      "name": "python"
    },
    "widgets": {
      "application/vnd.jupyter.widget-state+json": {
        "b007ef226931480b8cefa108e0d21394": {
          "model_module": "@jupyter-widgets/controls",
          "model_name": "HBoxModel",
          "model_module_version": "1.5.0",
          "state": {
            "_dom_classes": [],
            "_model_module": "@jupyter-widgets/controls",
            "_model_module_version": "1.5.0",
            "_model_name": "HBoxModel",
            "_view_count": null,
            "_view_module": "@jupyter-widgets/controls",
            "_view_module_version": "1.5.0",
            "_view_name": "HBoxView",
            "box_style": "",
            "children": [
              "IPY_MODEL_4570a2bfd5ca416090e80845e805cd8c",
              "IPY_MODEL_6d00ccddd1c4472794fdf9f921959f49",
              "IPY_MODEL_e42ac6271e67458486dc1162ffa8f13d"
            ],
            "layout": "IPY_MODEL_5ade9d28d5ac4d038504a731da4b309c"
          }
        },
        "4570a2bfd5ca416090e80845e805cd8c": {
          "model_module": "@jupyter-widgets/controls",
          "model_name": "HTMLModel",
          "model_module_version": "1.5.0",
          "state": {
            "_dom_classes": [],
            "_model_module": "@jupyter-widgets/controls",
            "_model_module_version": "1.5.0",
            "_model_name": "HTMLModel",
            "_view_count": null,
            "_view_module": "@jupyter-widgets/controls",
            "_view_module_version": "1.5.0",
            "_view_name": "HTMLView",
            "description": "",
            "description_tooltip": null,
            "layout": "IPY_MODEL_a4649f96682c47b393202fdd915569e5",
            "placeholder": "​",
            "style": "IPY_MODEL_1de5e8a396f3400a815278428b452fd1",
            "value": "model.safetensors: 100%"
          }
        },
        "6d00ccddd1c4472794fdf9f921959f49": {
          "model_module": "@jupyter-widgets/controls",
          "model_name": "FloatProgressModel",
          "model_module_version": "1.5.0",
          "state": {
            "_dom_classes": [],
            "_model_module": "@jupyter-widgets/controls",
            "_model_module_version": "1.5.0",
            "_model_name": "FloatProgressModel",
            "_view_count": null,
            "_view_module": "@jupyter-widgets/controls",
            "_view_module_version": "1.5.0",
            "_view_name": "ProgressView",
            "bar_style": "success",
            "description": "",
            "description_tooltip": null,
            "layout": "IPY_MODEL_efe5f8ebcd75484b962cfd37069db097",
            "max": 1340622760,
            "min": 0,
            "orientation": "horizontal",
            "style": "IPY_MODEL_e9fbb3e3292747f6af9bc094310562d6",
            "value": 1340622760
          }
        },
        "e42ac6271e67458486dc1162ffa8f13d": {
          "model_module": "@jupyter-widgets/controls",
          "model_name": "HTMLModel",
          "model_module_version": "1.5.0",
          "state": {
            "_dom_classes": [],
            "_model_module": "@jupyter-widgets/controls",
            "_model_module_version": "1.5.0",
            "_model_name": "HTMLModel",
            "_view_count": null,
            "_view_module": "@jupyter-widgets/controls",
            "_view_module_version": "1.5.0",
            "_view_name": "HTMLView",
            "description": "",
            "description_tooltip": null,
            "layout": "IPY_MODEL_8adc190f37de43d98c925df16e8bfb7d",
            "placeholder": "​",
            "style": "IPY_MODEL_16524d03211a428b929518fe91583971",
            "value": " 1.34G/1.34G [00:13&lt;00:00, 229MB/s]"
          }
        },
        "5ade9d28d5ac4d038504a731da4b309c": {
          "model_module": "@jupyter-widgets/base",
          "model_name": "LayoutModel",
          "model_module_version": "1.2.0",
          "state": {
            "_model_module": "@jupyter-widgets/base",
            "_model_module_version": "1.2.0",
            "_model_name": "LayoutModel",
            "_view_count": null,
            "_view_module": "@jupyter-widgets/base",
            "_view_module_version": "1.2.0",
            "_view_name": "LayoutView",
            "align_content": null,
            "align_items": null,
            "align_self": null,
            "border": null,
            "bottom": null,
            "display": null,
            "flex": null,
            "flex_flow": null,
            "grid_area": null,
            "grid_auto_columns": null,
            "grid_auto_flow": null,
            "grid_auto_rows": null,
            "grid_column": null,
            "grid_gap": null,
            "grid_row": null,
            "grid_template_areas": null,
            "grid_template_columns": null,
            "grid_template_rows": null,
            "height": null,
            "justify_content": null,
            "justify_items": null,
            "left": null,
            "margin": null,
            "max_height": null,
            "max_width": null,
            "min_height": null,
            "min_width": null,
            "object_fit": null,
            "object_position": null,
            "order": null,
            "overflow": null,
            "overflow_x": null,
            "overflow_y": null,
            "padding": null,
            "right": null,
            "top": null,
            "visibility": null,
            "width": null
          }
        },
        "a4649f96682c47b393202fdd915569e5": {
          "model_module": "@jupyter-widgets/base",
          "model_name": "LayoutModel",
          "model_module_version": "1.2.0",
          "state": {
            "_model_module": "@jupyter-widgets/base",
            "_model_module_version": "1.2.0",
            "_model_name": "LayoutModel",
            "_view_count": null,
            "_view_module": "@jupyter-widgets/base",
            "_view_module_version": "1.2.0",
            "_view_name": "LayoutView",
            "align_content": null,
            "align_items": null,
            "align_self": null,
            "border": null,
            "bottom": null,
            "display": null,
            "flex": null,
            "flex_flow": null,
            "grid_area": null,
            "grid_auto_columns": null,
            "grid_auto_flow": null,
            "grid_auto_rows": null,
            "grid_column": null,
            "grid_gap": null,
            "grid_row": null,
            "grid_template_areas": null,
            "grid_template_columns": null,
            "grid_template_rows": null,
            "height": null,
            "justify_content": null,
            "justify_items": null,
            "left": null,
            "margin": null,
            "max_height": null,
            "max_width": null,
            "min_height": null,
            "min_width": null,
            "object_fit": null,
            "object_position": null,
            "order": null,
            "overflow": null,
            "overflow_x": null,
            "overflow_y": null,
            "padding": null,
            "right": null,
            "top": null,
            "visibility": null,
            "width": null
          }
        },
        "1de5e8a396f3400a815278428b452fd1": {
          "model_module": "@jupyter-widgets/controls",
          "model_name": "DescriptionStyleModel",
          "model_module_version": "1.5.0",
          "state": {
            "_model_module": "@jupyter-widgets/controls",
            "_model_module_version": "1.5.0",
            "_model_name": "DescriptionStyleModel",
            "_view_count": null,
            "_view_module": "@jupyter-widgets/base",
            "_view_module_version": "1.2.0",
            "_view_name": "StyleView",
            "description_width": ""
          }
        },
        "efe5f8ebcd75484b962cfd37069db097": {
          "model_module": "@jupyter-widgets/base",
          "model_name": "LayoutModel",
          "model_module_version": "1.2.0",
          "state": {
            "_model_module": "@jupyter-widgets/base",
            "_model_module_version": "1.2.0",
            "_model_name": "LayoutModel",
            "_view_count": null,
            "_view_module": "@jupyter-widgets/base",
            "_view_module_version": "1.2.0",
            "_view_name": "LayoutView",
            "align_content": null,
            "align_items": null,
            "align_self": null,
            "border": null,
            "bottom": null,
            "display": null,
            "flex": null,
            "flex_flow": null,
            "grid_area": null,
            "grid_auto_columns": null,
            "grid_auto_flow": null,
            "grid_auto_rows": null,
            "grid_column": null,
            "grid_gap": null,
            "grid_row": null,
            "grid_template_areas": null,
            "grid_template_columns": null,
            "grid_template_rows": null,
            "height": null,
            "justify_content": null,
            "justify_items": null,
            "left": null,
            "margin": null,
            "max_height": null,
            "max_width": null,
            "min_height": null,
            "min_width": null,
            "object_fit": null,
            "object_position": null,
            "order": null,
            "overflow": null,
            "overflow_x": null,
            "overflow_y": null,
            "padding": null,
            "right": null,
            "top": null,
            "visibility": null,
            "width": null
          }
        },
        "e9fbb3e3292747f6af9bc094310562d6": {
          "model_module": "@jupyter-widgets/controls",
          "model_name": "ProgressStyleModel",
          "model_module_version": "1.5.0",
          "state": {
            "_model_module": "@jupyter-widgets/controls",
            "_model_module_version": "1.5.0",
            "_model_name": "ProgressStyleModel",
            "_view_count": null,
            "_view_module": "@jupyter-widgets/base",
            "_view_module_version": "1.2.0",
            "_view_name": "StyleView",
            "bar_color": null,
            "description_width": ""
          }
        },
        "8adc190f37de43d98c925df16e8bfb7d": {
          "model_module": "@jupyter-widgets/base",
          "model_name": "LayoutModel",
          "model_module_version": "1.2.0",
          "state": {
            "_model_module": "@jupyter-widgets/base",
            "_model_module_version": "1.2.0",
            "_model_name": "LayoutModel",
            "_view_count": null,
            "_view_module": "@jupyter-widgets/base",
            "_view_module_version": "1.2.0",
            "_view_name": "LayoutView",
            "align_content": null,
            "align_items": null,
            "align_self": null,
            "border": null,
            "bottom": null,
            "display": null,
            "flex": null,
            "flex_flow": null,
            "grid_area": null,
            "grid_auto_columns": null,
            "grid_auto_flow": null,
            "grid_auto_rows": null,
            "grid_column": null,
            "grid_gap": null,
            "grid_row": null,
            "grid_template_areas": null,
            "grid_template_columns": null,
            "grid_template_rows": null,
            "height": null,
            "justify_content": null,
            "justify_items": null,
            "left": null,
            "margin": null,
            "max_height": null,
            "max_width": null,
            "min_height": null,
            "min_width": null,
            "object_fit": null,
            "object_position": null,
            "order": null,
            "overflow": null,
            "overflow_x": null,
            "overflow_y": null,
            "padding": null,
            "right": null,
            "top": null,
            "visibility": null,
            "width": null
          }
        },
        "16524d03211a428b929518fe91583971": {
          "model_module": "@jupyter-widgets/controls",
          "model_name": "DescriptionStyleModel",
          "model_module_version": "1.5.0",
          "state": {
            "_model_module": "@jupyter-widgets/controls",
            "_model_module_version": "1.5.0",
            "_model_name": "DescriptionStyleModel",
            "_view_count": null,
            "_view_module": "@jupyter-widgets/base",
            "_view_module_version": "1.2.0",
            "_view_name": "StyleView",
            "description_width": ""
          }
        }
      }
    }
  },
  "cells": [
    {
      "cell_type": "code",
      "execution_count": 2,
      "metadata": {
        "id": "cjREdcWN1tY-"
      },
      "outputs": [],
      "source": [
        "from transformers import AutoTokenizer\n",
        "from transformers import TFAutoModelForQuestionAnswering\n",
        "import tensorflow as tf"
      ]
    },
    {
      "cell_type": "code",
      "source": [
        "model = 'bert-large-uncased-whole-word-masking-finetuned-squad'\n",
        "tokenizer = AutoTokenizer.from_pretrained(model)"
      ],
      "metadata": {
        "id": "Vx3E0xRZ_eMu"
      },
      "execution_count": null,
      "outputs": []
    },
    {
      "cell_type": "code",
      "source": [
        "text = \"where is sun located\"\n",
        "\n",
        "tokenizer(text)"
      ],
      "metadata": {
        "colab": {
          "base_uri": "https://localhost:8080/"
        },
        "id": "7Zd_Xmet_1Ql",
        "outputId": "3686d1ce-039e-4f14-d9ec-0831329a205b"
      },
      "execution_count": 6,
      "outputs": [
        {
          "output_type": "execute_result",
          "data": {
            "text/plain": [
              "{'input_ids': [101, 2073, 2003, 3103, 2284, 102], 'token_type_ids': [0, 0, 0, 0, 0, 0], 'attention_mask': [1, 1, 1, 1, 1, 1]}"
            ]
          },
          "metadata": {},
          "execution_count": 6
        }
      ]
    },
    {
      "cell_type": "code",
      "source": [
        "tokenizer(text).input_ids"
      ],
      "metadata": {
        "colab": {
          "base_uri": "https://localhost:8080/"
        },
        "id": "2Ho4rHU5AVaf",
        "outputId": "c0c15605-af5a-420c-df12-ef363468f4c2"
      },
      "execution_count": 8,
      "outputs": [
        {
          "output_type": "execute_result",
          "data": {
            "text/plain": [
              "[101, 2073, 2003, 3103, 2284, 102]"
            ]
          },
          "metadata": {},
          "execution_count": 8
        }
      ]
    },
    {
      "cell_type": "code",
      "source": [
        "tokenizer.convert_ids_to_tokens(\n",
        "    [101, 2073, 2003, 3103, 2284, 102])"
      ],
      "metadata": {
        "colab": {
          "base_uri": "https://localhost:8080/"
        },
        "id": "FON0yLMDF6lA",
        "outputId": "f991e1b1-9999-41ba-8d60-ba5b3e09dcce"
      },
      "execution_count": 54,
      "outputs": [
        {
          "output_type": "execute_result",
          "data": {
            "text/plain": [
              "['[CLS]', 'where', 'is', 'sun', 'located', '[SEP]']"
            ]
          },
          "metadata": {},
          "execution_count": 54
        }
      ]
    },
    {
      "cell_type": "code",
      "source": [
        "model = TFAutoModelForQuestionAnswering.from_pretrained(model)"
      ],
      "metadata": {
        "colab": {
          "base_uri": "https://localhost:8080/",
          "height": 138,
          "referenced_widgets": [
            "b007ef226931480b8cefa108e0d21394",
            "4570a2bfd5ca416090e80845e805cd8c",
            "6d00ccddd1c4472794fdf9f921959f49",
            "e42ac6271e67458486dc1162ffa8f13d",
            "5ade9d28d5ac4d038504a731da4b309c",
            "a4649f96682c47b393202fdd915569e5",
            "1de5e8a396f3400a815278428b452fd1",
            "efe5f8ebcd75484b962cfd37069db097",
            "e9fbb3e3292747f6af9bc094310562d6",
            "8adc190f37de43d98c925df16e8bfb7d",
            "16524d03211a428b929518fe91583971"
          ]
        },
        "id": "4olV26F9AmRA",
        "outputId": "6fb0a546-0491-4471-8faf-340c9e83a39d"
      },
      "execution_count": 10,
      "outputs": [
        {
          "output_type": "display_data",
          "data": {
            "text/plain": [
              "model.safetensors:   0%|          | 0.00/1.34G [00:00<?, ?B/s]"
            ],
            "application/vnd.jupyter.widget-view+json": {
              "version_major": 2,
              "version_minor": 0,
              "model_id": "b007ef226931480b8cefa108e0d21394"
            }
          },
          "metadata": {}
        },
        {
          "output_type": "stream",
          "name": "stderr",
          "text": [
            "All PyTorch model weights were used when initializing TFBertForQuestionAnswering.\n",
            "\n",
            "All the weights of TFBertForQuestionAnswering were initialized from the PyTorch model.\n",
            "If your task is similar to the task the model of the checkpoint was trained on, you can already use TFBertForQuestionAnswering for predictions without further training.\n"
          ]
        }
      ]
    },
    {
      "cell_type": "code",
      "source": [
        "context = \"\"\"\n",
        "The sun is a star located at the center of our solar system.\n",
        "It is about 93 million miles away from Earth.\n",
        "The sun provides light and heat, which are essential for life on our planet.\n",
        "It is mostly made up of hydrogen and helium.\n",
        "The sun is very large; in fact, about 1.3 million Earths could fit inside it.\n",
        "It takes about 8 minutes for sunlight to reach Earth.\n",
        "\"\"\""
      ],
      "metadata": {
        "id": "f5AlsA0oA3W8"
      },
      "execution_count": 43,
      "outputs": []
    },
    {
      "cell_type": "code",
      "source": [
        "question = \"where is sun located\""
      ],
      "metadata": {
        "id": "MY2U2rDWCd7D"
      },
      "execution_count": 44,
      "outputs": []
    },
    {
      "cell_type": "code",
      "source": [
        "inputs = tokenizer(question, context,\n",
        "                   add_special_tokens=True,\n",
        "                   return_tensors=\"pt\"\n",
        "                  )\n",
        "\n",
        "input_ids = inputs[\"input_ids\"].tolist()[0]"
      ],
      "metadata": {
        "id": "uTyEmO_GBZVa"
      },
      "execution_count": 45,
      "outputs": []
    },
    {
      "cell_type": "code",
      "source": [
        "outputs = model(**inputs)\n",
        "outputs"
      ],
      "metadata": {
        "colab": {
          "base_uri": "https://localhost:8080/"
        },
        "id": "HIuDiBGoB9gi",
        "outputId": "5d15e332-5dd1-4cdb-aa8b-e3f60f0e0c2e"
      },
      "execution_count": 46,
      "outputs": [
        {
          "output_type": "execute_result",
          "data": {
            "text/plain": [
              "QuestionAnsweringModelOutput(loss=None, start_logits=tensor([[-5.8956e+00, -7.5308e+00, -8.5670e+00, -8.7111e+00, -9.0270e+00,\n",
              "         -5.8956e+00,  3.8186e+00,  2.3185e+00, -1.0095e+00,  2.2266e+00,\n",
              "          7.5389e-01,  1.5678e+00,  4.3837e+00,  3.5685e+00,  3.3026e+00,\n",
              "         -3.0443e+00,  1.2797e+00, -8.0881e-03, -3.0508e+00, -4.4727e+00,\n",
              "          2.1904e+00, -3.2675e+00,  8.2702e-01, -5.4856e-02, -4.3014e+00,\n",
              "         -4.2303e+00, -2.4958e+00, -2.9946e+00, -9.4552e-01, -5.8912e+00,\n",
              "          6.2990e-02, -2.0939e+00, -2.3917e+00, -2.3855e+00, -6.2416e+00,\n",
              "         -3.6174e+00, -6.8131e+00, -5.6365e+00, -5.6253e+00, -3.1565e+00,\n",
              "         -5.4805e+00, -3.4913e+00, -4.7283e+00, -3.3800e+00, -4.1434e+00,\n",
              "         -6.1838e+00, -1.5929e+00, -6.2924e+00, -2.7711e+00, -4.1645e+00,\n",
              "         -5.7666e+00, -6.9227e+00, -2.8734e+00, -6.8801e+00, -3.9961e+00,\n",
              "         -6.8646e+00, -3.4325e-01, -2.6126e+00, -6.5390e+00, -2.8051e+00,\n",
              "         -3.5682e+00, -7.0788e+00, -4.5580e+00, -5.5272e+00, -7.6231e+00,\n",
              "         -3.2704e+00, -4.5946e+00, -7.5068e+00, -6.5652e+00, -7.0572e+00,\n",
              "         -5.4290e+00, -7.7273e+00, -5.6837e+00, -5.4242e+00, -5.3058e+00,\n",
              "         -5.6528e+00, -6.8817e+00, -3.8412e+00, -5.4168e+00, -5.2233e+00,\n",
              "         -5.9612e+00, -6.5252e+00, -6.8542e+00, -3.6932e+00, -7.3229e+00,\n",
              "         -6.1757e+00, -4.2567e+00, -8.0847e+00, -5.8956e+00]],\n",
              "       grad_fn=<CloneBackward0>), end_logits=tensor([[-1.0386, -7.0361, -7.5972, -7.6383, -7.9458, -1.0386, -3.2618,  0.3195,\n",
              "         -4.1362, -4.3957, -1.0205, -2.1037, -3.0473, -3.5869,  0.3538, -2.3364,\n",
              "         -3.0634, -0.0306,  6.3437,  4.5255, -3.8377, -4.3934, -5.3993, -4.2808,\n",
              "         -4.1722, -1.0391, -1.1620, -3.7817,  2.3136, -1.0398, -5.6709, -2.2892,\n",
              "         -4.6739, -3.5099, -6.5327, -1.3324, -2.2495, -6.3886, -6.5982, -4.4543,\n",
              "         -6.4306, -2.9379, -6.7407, -5.6896,  0.2712, -0.9109, -5.6799, -6.9537,\n",
              "         -6.1341, -6.4438, -5.7155, -7.2992, -4.4308, -7.3616, -1.5161, -1.6128,\n",
              "         -6.3590, -3.0706, -7.1744, -7.0389, -2.0739, -3.8102, -7.7868, -5.9554,\n",
              "         -6.0935, -6.7493, -6.5814, -7.5875, -6.4357, -6.2923, -5.8691, -5.2899,\n",
              "         -6.4181, -5.9123, -6.1531, -2.2992, -2.0625, -7.2469, -6.8201, -7.3965,\n",
              "         -6.7200, -4.9453, -7.5852, -4.4791, -7.5629, -6.8351, -1.8284, -1.6546,\n",
              "         -1.0390]], grad_fn=<CloneBackward0>), hidden_states=None, attentions=None)"
            ]
          },
          "metadata": {},
          "execution_count": 46
        }
      ]
    },
    {
      "cell_type": "code",
      "source": [
        "outputs.keys()"
      ],
      "metadata": {
        "colab": {
          "base_uri": "https://localhost:8080/"
        },
        "id": "0gdafV5vCuBK",
        "outputId": "6715b1df-9dd6-417e-fbf5-a7696b721010"
      },
      "execution_count": 47,
      "outputs": [
        {
          "output_type": "execute_result",
          "data": {
            "text/plain": [
              "odict_keys(['start_logits', 'end_logits'])"
            ]
          },
          "metadata": {},
          "execution_count": 47
        }
      ]
    },
    {
      "cell_type": "code",
      "source": [
        "answer_start_scores = outputs.start_logits\n",
        "answer_end_scores = outputs.end_logits"
      ],
      "metadata": {
        "id": "VDr9n2vIEWtZ"
      },
      "execution_count": 48,
      "outputs": []
    },
    {
      "cell_type": "code",
      "source": [
        "# Get the most likely beginning of answer with the argmax of the score\n",
        "answer_start = torch.argmax(answer_start_scores)\n",
        "\n",
        "# Get the most likely end of answer with the argmax of the score\n",
        "answer_end = torch.argmax(answer_end_scores) + 1"
      ],
      "metadata": {
        "id": "ytoh1YliEa4K"
      },
      "execution_count": 49,
      "outputs": []
    },
    {
      "cell_type": "code",
      "source": [
        "answer = tokenizer.convert_tokens_to_string(\n",
        "      tokenizer.convert_ids_to_tokens(input_ids[answer_start:answer_end])\n",
        "  )"
      ],
      "metadata": {
        "id": "ehQS9b-kEss8"
      },
      "execution_count": 51,
      "outputs": []
    },
    {
      "cell_type": "code",
      "source": [
        "answer"
      ],
      "metadata": {
        "colab": {
          "base_uri": "https://localhost:8080/",
          "height": 35
        },
        "id": "As74iiY2FKlD",
        "outputId": "ad786ae7-d8e2-45f1-9635-2d5ee82e5e7a"
      },
      "execution_count": 52,
      "outputs": [
        {
          "output_type": "execute_result",
          "data": {
            "text/plain": [
              "'at the center of our solar system'"
            ],
            "application/vnd.google.colaboratory.intrinsic+json": {
              "type": "string"
            }
          },
          "metadata": {},
          "execution_count": 52
        }
      ]
    },
    {
      "cell_type": "code",
      "source": [
        "print(f\"Question: {question}\")\n",
        "print(f\"Answer: {answer}\")"
      ],
      "metadata": {
        "colab": {
          "base_uri": "https://localhost:8080/"
        },
        "id": "VrvCqseKFLsh",
        "outputId": "314e4f4d-20be-41c0-d462-d4f30566c2e1"
      },
      "execution_count": 53,
      "outputs": [
        {
          "output_type": "stream",
          "name": "stdout",
          "text": [
            "Question: where is sun located\n",
            "Answer: at the center of our solar system\n"
          ]
        }
      ]
    },
    {
      "cell_type": "code",
      "source": [],
      "metadata": {
        "id": "lIhmJkffFOeY"
      },
      "execution_count": null,
      "outputs": []
    }
  ]
}